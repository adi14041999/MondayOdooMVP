{
 "cells": [
  {
   "cell_type": "code",
   "execution_count": 2,
   "id": "b458d557",
   "metadata": {},
   "outputs": [],
   "source": [
    "import random\n",
    "\n",
    "# List of sample names\n",
    "names = [word.rstrip() for word in open(\"first_names.txt\",\"r\")]\n",
    "\n",
    "prompt = \"From the Monday board whose id is {}, fetch all the applicants whose first name is {} and add them to the list of job applicants in Odoo.\"\n",
    "\n",
    "# Generate 10,000 tuples\n",
    "prompts_list = []\n",
    "for _ in range(10000):\n",
    "    random_integer = random.randint(4000000000, 6000000000)\n",
    "    random_name = random.choice(names)\n",
    "    new_prompt = prompt.format(random_integer, random_name)\n",
    "    prompts_list.append(new_prompt)\n",
    "    \n",
    "\n",
    "# Open a file in write mode\n",
    "with open('prompts_list_use_case_1.txt', 'w') as file:\n",
    "    # Write each prompt to the file, one per line\n",
    "    for prompt in prompts_list:\n",
    "        file.write(prompt + '\\n')\n",
    "\n"
   ]
  },
  {
   "cell_type": "code",
   "execution_count": null,
   "id": "3bca2c2a",
   "metadata": {},
   "outputs": [],
   "source": []
  },
  {
   "cell_type": "code",
   "execution_count": null,
   "id": "606040ca",
   "metadata": {},
   "outputs": [],
   "source": []
  },
  {
   "cell_type": "code",
   "execution_count": null,
   "id": "0efb13e6",
   "metadata": {},
   "outputs": [],
   "source": []
  }
 ],
 "metadata": {
  "kernelspec": {
   "display_name": "Python 3 (ipykernel)",
   "language": "python",
   "name": "python3"
  },
  "language_info": {
   "codemirror_mode": {
    "name": "ipython",
    "version": 3
   },
   "file_extension": ".py",
   "mimetype": "text/x-python",
   "name": "python",
   "nbconvert_exporter": "python",
   "pygments_lexer": "ipython3",
   "version": "3.11.5"
  }
 },
 "nbformat": 4,
 "nbformat_minor": 5
}
