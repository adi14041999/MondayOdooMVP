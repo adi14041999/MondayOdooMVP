{
 "cells": [
  {
   "cell_type": "markdown",
   "id": "b2e83acd",
   "metadata": {},
   "source": [
    "## Set up"
   ]
  },
  {
   "cell_type": "code",
   "execution_count": 11,
   "id": "361a0fb7",
   "metadata": {},
   "outputs": [],
   "source": [
    "from auth import SecretManager\n",
    "from auth import MondayAuth\n",
    "from auth import OdooAuth\n",
    "from monday_crud import MondayAPI\n",
    "from odoo_crud import OdooAPI\n",
    "\n",
    "from dotenv import dotenv_values\n",
    "\n",
    "MONDAY_URL = \"https://api.monday.com/v2\"\n",
    "MONDAY_BOARD_ID = 6130122975\n",
    "\n",
    "ODOO_URL = \"https://citrus2.odoo.com\"\n",
    "ODOO_DB = \"citrus2\"\n",
    "ODOO_MODEL_NAME = \"hr.applicant\"\n",
    "# ODOO_MODEL_NAME = \"hr.employee\"\n",
    "\n",
    "STATUS_TO_STAGE_ID = {\n",
    "    \"New\": 1,\n",
    "    \"Initial Qualification\": 2,\n",
    "    \"First Interview\": 3,\n",
    "    \"Second interview\": 4,\n",
    "    \"Contract Proposal\": 5,\n",
    "    \"Contract Signed\": 6,\n",
    "}\n",
    "\n",
    "loaded = SecretManager.load_secrets()\n",
    "if not loaded:\n",
    "    print(\"What is your Monday API key?\")\n",
    "    monday_api_key = input()\n",
    "    print(\"What is your Odoo username?\")\n",
    "    odoo_username = input()\n",
    "    print(\"What is your Odoo password?\")\n",
    "    odoo_password = input()\n",
    "    secret_manager = SecretManager()\n",
    "    secret_manager.save_secrets(monday_api_key, odoo_username, odoo_password)\n",
    "    print(\"Secrets saved. You won't be asked these again.\")\n",
    "secrets = dotenv_values(SecretManager.DOT_ENV_FILENAME)\n",
    "monday_api_key = secrets[SecretManager.MONDAY_API_KEY_KEY]\n",
    "# print(monday_api_key)\n",
    "odoo_username = secrets[SecretManager.ODOO_USERNAME_KEY]\n",
    "odoo_username = 'info@citrus-ai.com'\n",
    "# print(odoo_username)\n",
    "odoo_password = secrets[SecretManager.ODOO_PASSWORD_KEY]\n",
    "# print(odoo_password)\n",
    "odoo_password = 'Uvt/LY-&JYy&67+'\n",
    "monday_auth = MondayAuth(monday_api_key)\n",
    "odoo_auth = OdooAuth(odoo_username, odoo_password)\n",
    "\n",
    "odoo_uid = odoo_auth.authenticate(ODOO_DB, ODOO_URL)\n",
    "odoo_object = odoo_auth.get_object(ODOO_URL)\n",
    "\n",
    "monday_api = MondayAPI(MONDAY_URL)\n",
    "odoo_api = OdooAPI(ODOO_URL, ODOO_DB)"
   ]
  },
  {
   "cell_type": "markdown",
   "id": "29bd6bfe",
   "metadata": {},
   "source": [
    "## Fetch all applicants with name \"Chaves\", and add them to Odoo"
   ]
  },
  {
   "cell_type": "code",
   "execution_count": 2,
   "id": "b16fa1d4",
   "metadata": {},
   "outputs": [],
   "source": [
    "# Fetch all applicants with name \"Chaves\", and add them to Odoo\n",
    "def use_case_1(monday_auth, monday_api, odoo_auth, odoo_api, odoo_uid, odoo_object):\n",
    "    response = monday_api.read_items_and_names(monday_auth.api_key, MONDAY_BOARD_ID)\n",
    "    if response.status_code == 200:\n",
    "        response_json = response.json()\n",
    "        if response_json:\n",
    "            for board in response_json['data']['boards']:\n",
    "                for item in board['items_page']['items']:\n",
    "                    name = item['name']\n",
    "                    if name == \"Chaves\":\n",
    "                        odoo_api.create_applicant_with_name(odoo_object, odoo_uid, odoo_auth.api_password, name)\n",
    "                        print(f\"Applicant {name} created in Odoo.\")\n",
    "    else:\n",
    "        print(\"Failed to fetch data from Monday.com\")\n",
    "        return None"
   ]
  },
  {
   "cell_type": "markdown",
   "id": "a8c2dc03",
   "metadata": {},
   "source": [
    "## Updates the status of all Odoo applicants considering Monday as the source of truth"
   ]
  },
  {
   "cell_type": "code",
   "execution_count": 18,
   "id": "8540c6cc",
   "metadata": {},
   "outputs": [],
   "source": [
    "# Updates the status of all Odoo applicants considering Monday as the source of truth\n",
    "def use_case_2(monday_auth, monday_api, odoo_auth, odoo_api, odoo_uid, odoo_object):\n",
    "    response = monday_api.read_items_with_column_id(monday_auth.api_key, MONDAY_BOARD_ID, \"status\")\n",
    "    if response.status_code == 200:\n",
    "        response_json = response.json()\n",
    "        if response_json:\n",
    "            for item in response_json['data']['boards'][0]['items_page']['items']:\n",
    "                partner_name = item['name']\n",
    "                status_text = item['column_values'][0]['text'] if item['column_values'] else 'Status not found'\n",
    "                stage_id = STATUS_TO_STAGE_ID.get(status_text, None)\n",
    "                if stage_id is None:\n",
    "                    print(f\"No stage ID found for status '{status_text}'. Skipping...\")\n",
    "                    continue\n",
    "                applicant_ids = odoo_api.read_applicants_ids_with_name(odoo_object, odoo_uid, odoo_auth.api_password,\n",
    "                                                                       partner_name)\n",
    "                applicant_data = {\n",
    "                    'partner_name': partner_name,\n",
    "                    'name': 'Updated Status!',\n",
    "                    'stage_id': stage_id\n",
    "                }\n",
    "                if not applicant_ids:\n",
    "                    new_applicant_id = odoo_api.create_applicant_with_fields(odoo_object, odoo_uid,\n",
    "                                                                             odoo_auth.api_password, applicant_data)\n",
    "                    print(f\"Created new applicant with ID: {new_applicant_id}\")\n",
    "                else:\n",
    "                    for applicant_id in applicant_ids:\n",
    "                        odoo_api.update_fields_of_applicant(odoo_object, odoo_uid, odoo_auth.api_password,\n",
    "                                                            applicant_id, applicant_data)\n",
    "                        print(\n",
    "                            f\"Updated applicant {partner_name} with new stage ID: {stage_id} and name: {partner_name}\")\n",
    "    else:\n",
    "        print(\"Failed to fetch data from Monday.com\")\n",
    "        return None"
   ]
  },
  {
   "cell_type": "markdown",
   "id": "601f39fc",
   "metadata": {},
   "source": [
    "## Move all the employees from Odoo to a board on Monday with similar fields"
   ]
  },
  {
   "cell_type": "code",
   "execution_count": 9,
   "id": "5e5b3374",
   "metadata": {},
   "outputs": [
    {
     "data": {
      "text/plain": [
       "<Response [200]>"
      ]
     },
     "execution_count": 9,
     "metadata": {},
     "output_type": "execute_result"
    }
   ],
   "source": [
    "# Move all the employees from Odoo to a board on Monday with similar fields\n",
    "def use_case_3(monday_auth, monday_api, odoo_auth, odoo_api, odoo_uid, odoo_object):\n",
    "    fields_list = ['name', 'work_email', 'job_id', 'department_id']\n",
    "    # TODO: populate those fields on Monday\n",
    "    monday_fields = []\n",
    "    employees = odoo_api.read_employees_and_fields(odoo_object, odoo_uid, odoo_auth.api_password, fields_list)\n",
    "    response = monday_api.create_board_with_name(monday_auth.api_key, \"Employees from Odoo\")\n",
    "    if response.status_code == 200:\n",
    "        response_json = response.json()\n",
    "        if response_json:\n",
    "            board_id = response_json['data']['create_board']['id']\n",
    "            for employee in employees:\n",
    "                monday_api.create_item_with_name(monday_auth.api_key, board_id, employee['name'])\n",
    "                \n",
    "#monday_api.create_item_with_values(monday_auth.api_key, MONDAY_BOARD_ID, 'Aditya', {\"name\": \"Aditya\", \"text\": \"testing\", \"text1\": \"no reason\"})"
   ]
  },
  {
   "cell_type": "markdown",
   "id": "d5775e14",
   "metadata": {},
   "source": [
    "## Get addresses of all employees in Odoo with name 'Andy' and do something with them on Monday"
   ]
  },
  {
   "cell_type": "code",
   "execution_count": null,
   "id": "64c05752",
   "metadata": {},
   "outputs": [],
   "source": [
    "# Get addresses of all employees in Odoo with name 'Andy' and do something with them on Monday\n",
    "def use_case_4(monday_auth, monday_api, odoo_auth, odoo_api, odoo_uid, odoo_object):\n",
    "    fields_list = ['private_street', 'private_city', 'private_zip']\n",
    "    employees = odoo_api.read_employees_and_fields_with_name(odoo_object, odoo_uid, odoo_auth.api_password,\n",
    "                                                             \"Andy\", fields_list)\n",
    "    if employees:\n",
    "        for employee in employees:\n",
    "            address = f\"{employee['private_street']}, {employee['private_city']}, {employee['private_zip']}\"\n",
    "            print(address)\n",
    "            # TODO: Do something on Monday\n",
    "    return None"
   ]
  },
  {
   "cell_type": "markdown",
   "id": "c64fa33d",
   "metadata": {},
   "source": [
    "## Delete some users from Monday and Odoo"
   ]
  },
  {
   "cell_type": "code",
   "execution_count": 17,
   "id": "7d1a8346",
   "metadata": {},
   "outputs": [
    {
     "name": "stdout",
     "output_type": "stream",
     "text": [
      "[48, 47, 46, 45]\n"
     ]
    }
   ],
   "source": [
    "# Delete some users from Monday and Odoo\n",
    "def use_case_5(monday_auth, monday_api, odoo_auth, odoo_api, odoo_uid, odoo_object):\n",
    "    delete_from_monday = [6076917957, 6076918096]\n",
    "    for applicant_id in delete_from_monday:\n",
    "        monday_api.delete_item(monday_auth.api_key, applicant_id)\n",
    "        print(\"Deleted: \", applicant_id)\n",
    "    delete_from_odoo = odoo_api.read_applicants_ids(odoo_object, odoo_uid, odoo_auth.api_password)\n",
    "    for applicant_id in delete_from_odoo:\n",
    "        odoo_api.delete_applicant(odoo_object, odoo_uid, odoo_auth.api_password, applicant_id)\n",
    "        print(\"Deleted: \", applicant_id)\n",
    "        \n",
    "ids = odoo_api.read_applicants_ids('hr.applicant', odoo_object, odoo_uid, odoo_auth.api_password)\n",
    "print(ids)"
   ]
  },
  {
   "cell_type": "code",
   "execution_count": null,
   "id": "13c36647",
   "metadata": {},
   "outputs": [],
   "source": []
  }
 ],
 "metadata": {
  "kernelspec": {
   "display_name": "Python 3 (ipykernel)",
   "language": "python",
   "name": "python3"
  },
  "language_info": {
   "codemirror_mode": {
    "name": "ipython",
    "version": 3
   },
   "file_extension": ".py",
   "mimetype": "text/x-python",
   "name": "python",
   "nbconvert_exporter": "python",
   "pygments_lexer": "ipython3",
   "version": "3.11.5"
  }
 },
 "nbformat": 4,
 "nbformat_minor": 5
}
